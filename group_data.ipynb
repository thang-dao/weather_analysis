{
 "cells": [
  {
   "cell_type": "code",
   "execution_count": 79,
   "metadata": {},
   "outputs": [],
   "source": [
    "import pandas as pd"
   ]
  },
  {
   "cell_type": "code",
   "execution_count": 87,
   "metadata": {},
   "outputs": [],
   "source": [
    "df = pd.read_csv ('data/weather_data_VietNam_[2021].csv')"
   ]
  },
  {
   "cell_type": "code",
   "execution_count": 81,
   "metadata": {},
   "outputs": [],
   "source": [
    "province = 'Đà Nẵng'\n",
    "small_df = df[df.Province == province]"
   ]
  },
  {
   "cell_type": "code",
   "execution_count": 82,
   "metadata": {},
   "outputs": [],
   "source": [
    "small_df = small_df.drop(['Province'], axis=1)"
   ]
  },
  {
   "cell_type": "code",
   "execution_count": 83,
   "metadata": {},
   "outputs": [
    {
     "data": {
      "text/html": [
       "<div>\n",
       "<style scoped>\n",
       "    .dataframe tbody tr th:only-of-type {\n",
       "        vertical-align: middle;\n",
       "    }\n",
       "\n",
       "    .dataframe tbody tr th {\n",
       "        vertical-align: top;\n",
       "    }\n",
       "\n",
       "    .dataframe thead th {\n",
       "        text-align: right;\n",
       "    }\n",
       "</style>\n",
       "<table border=\"1\" class=\"dataframe\">\n",
       "  <thead>\n",
       "    <tr style=\"text-align: right;\">\n",
       "      <th></th>\n",
       "      <th>Time</th>\n",
       "      <th>Humidity</th>\n",
       "      <th>Dew point</th>\n",
       "      <th>Day</th>\n",
       "      <th>Month</th>\n",
       "      <th>Year</th>\n",
       "      <th>Temperature</th>\n",
       "      <th>Rain</th>\n",
       "      <th>Cloud</th>\n",
       "      <th>Pressure</th>\n",
       "      <th>Wind</th>\n",
       "      <th>Gust</th>\n",
       "      <th>Dir</th>\n",
       "      <th>Weather</th>\n",
       "    </tr>\n",
       "  </thead>\n",
       "  <tbody>\n",
       "    <tr>\n",
       "      <th>71930</th>\n",
       "      <td>00:00</td>\n",
       "      <td>89.0</td>\n",
       "      <td>22.0</td>\n",
       "      <td>1</td>\n",
       "      <td>1</td>\n",
       "      <td>2021</td>\n",
       "      <td>14.0</td>\n",
       "      <td>0.0</td>\n",
       "      <td>79.0</td>\n",
       "      <td>1024.0</td>\n",
       "      <td>10.0</td>\n",
       "      <td>17.0</td>\n",
       "      <td>349.9</td>\n",
       "      <td>Partly cloudy</td>\n",
       "    </tr>\n",
       "    <tr>\n",
       "      <th>71931</th>\n",
       "      <td>03:00</td>\n",
       "      <td>83.0</td>\n",
       "      <td>22.0</td>\n",
       "      <td>1</td>\n",
       "      <td>1</td>\n",
       "      <td>2021</td>\n",
       "      <td>14.0</td>\n",
       "      <td>0.0</td>\n",
       "      <td>91.0</td>\n",
       "      <td>1022.0</td>\n",
       "      <td>12.0</td>\n",
       "      <td>18.0</td>\n",
       "      <td>339.5</td>\n",
       "      <td>Overcast</td>\n",
       "    </tr>\n",
       "    <tr>\n",
       "      <th>71932</th>\n",
       "      <td>06:00</td>\n",
       "      <td>83.0</td>\n",
       "      <td>22.0</td>\n",
       "      <td>1</td>\n",
       "      <td>1</td>\n",
       "      <td>2021</td>\n",
       "      <td>13.0</td>\n",
       "      <td>0.0</td>\n",
       "      <td>83.0</td>\n",
       "      <td>1023.0</td>\n",
       "      <td>13.0</td>\n",
       "      <td>19.0</td>\n",
       "      <td>326.0</td>\n",
       "      <td>Overcast</td>\n",
       "    </tr>\n",
       "    <tr>\n",
       "      <th>71933</th>\n",
       "      <td>09:00</td>\n",
       "      <td>84.0</td>\n",
       "      <td>23.0</td>\n",
       "      <td>1</td>\n",
       "      <td>1</td>\n",
       "      <td>2021</td>\n",
       "      <td>14.0</td>\n",
       "      <td>0.2</td>\n",
       "      <td>85.0</td>\n",
       "      <td>1024.0</td>\n",
       "      <td>13.0</td>\n",
       "      <td>19.0</td>\n",
       "      <td>334.1</td>\n",
       "      <td>Cloudy</td>\n",
       "    </tr>\n",
       "    <tr>\n",
       "      <th>71934</th>\n",
       "      <td>12:00</td>\n",
       "      <td>84.0</td>\n",
       "      <td>23.0</td>\n",
       "      <td>1</td>\n",
       "      <td>1</td>\n",
       "      <td>2021</td>\n",
       "      <td>15.0</td>\n",
       "      <td>0.4</td>\n",
       "      <td>83.0</td>\n",
       "      <td>1023.0</td>\n",
       "      <td>12.0</td>\n",
       "      <td>16.0</td>\n",
       "      <td>344.3</td>\n",
       "      <td>Light drizzle</td>\n",
       "    </tr>\n",
       "  </tbody>\n",
       "</table>\n",
       "</div>"
      ],
      "text/plain": [
       "        Time  Humidity  Dew point  Day  Month  Year  Temperature  Rain  Cloud  \\\n",
       "71930  00:00      89.0       22.0    1      1  2021         14.0   0.0   79.0   \n",
       "71931  03:00      83.0       22.0    1      1  2021         14.0   0.0   91.0   \n",
       "71932  06:00      83.0       22.0    1      1  2021         13.0   0.0   83.0   \n",
       "71933  09:00      84.0       23.0    1      1  2021         14.0   0.2   85.0   \n",
       "71934  12:00      84.0       23.0    1      1  2021         15.0   0.4   83.0   \n",
       "\n",
       "       Pressure  Wind  Gust    Dir        Weather  \n",
       "71930    1024.0  10.0  17.0  349.9  Partly cloudy  \n",
       "71931    1022.0  12.0  18.0  339.5       Overcast  \n",
       "71932    1023.0  13.0  19.0  326.0       Overcast  \n",
       "71933    1024.0  13.0  19.0  334.1         Cloudy  \n",
       "71934    1023.0  12.0  16.0  344.3  Light drizzle  "
      ]
     },
     "execution_count": 83,
     "metadata": {},
     "output_type": "execute_result"
    }
   ],
   "source": [
    "small_df.head()"
   ]
  },
  {
   "cell_type": "code",
   "execution_count": 84,
   "metadata": {},
   "outputs": [],
   "source": [
    "small_df.to_csv('data/{}.csv'.format(province))"
   ]
  },
  {
   "cell_type": "code",
   "execution_count": 85,
   "metadata": {},
   "outputs": [
    {
     "data": {
      "text/plain": [
       "(2889, 14)"
      ]
     },
     "execution_count": 85,
     "metadata": {},
     "output_type": "execute_result"
    }
   ],
   "source": [
    "small_df.shape"
   ]
  },
  {
   "cell_type": "code",
   "execution_count": 86,
   "metadata": {},
   "outputs": [
    {
     "data": {
      "text/plain": [
       "array(['Tây Ninh', 'Bắc Giang', 'Hà Nội', 'Long An', 'Hà Giang',\n",
       "       'Trà Vinh', 'Gia Lai', 'Ninh Bình', 'Bình Định', 'Nghệ An',\n",
       "       'Thái Nguyên', 'Quảng Ninh', 'Quảng Ngãi', 'Hòa Bình', 'Lạng Sơn',\n",
       "       'Đồng Tháp', 'Bắc Ninh', 'Bình Phước', 'Lâm Đồng', 'Hải Phòng',\n",
       "       'Bắc Kạn', 'An Giang', 'Hậu Giang', 'Lào Cai', 'Vĩnh Long',\n",
       "       'Đà Nẵng', 'Đắk Lắk', 'Điện Biên', 'Thừa Thiên Huế', 'Tuyên Quang',\n",
       "       'Phú Thọ', 'Hải Dương', 'Thái Bình', 'Khánh Hòa', 'Sóc Trăng',\n",
       "       'Kiên Giang', 'Quảng Bình', 'Thành phố Hồ Chí Minh', 'Tiền Giang',\n",
       "       'Hà Nam', 'Phú Yên', 'Bà Rịa - Vũng Tàu', 'Yên Bái', 'Đắk Nông',\n",
       "       'Ninh Thuận', 'Quảng Nam', 'Đồng Nai', 'Cần Thơ', 'Cao Bằng',\n",
       "       'Bình Thuận', 'Hưng Yên', 'Bình Dương', 'Bạc Liêu', 'Lai Châu',\n",
       "       'Nam Định', 'Vĩnh Phúc', 'Cà Mau', 'Kon Tum', 'Quảng Trị',\n",
       "       'Thanh Hóa', 'Sơn La', 'Hà Tĩnh', 'Bến Tre'], dtype=object)"
      ]
     },
     "execution_count": 86,
     "metadata": {},
     "output_type": "execute_result"
    }
   ],
   "source": [
    "df.Province.unique()"
   ]
  }
 ],
 "metadata": {
  "kernelspec": {
   "display_name": "Python 3.8.10 ('py38')",
   "language": "python",
   "name": "python3"
  },
  "language_info": {
   "codemirror_mode": {
    "name": "ipython",
    "version": 3
   },
   "file_extension": ".py",
   "mimetype": "text/x-python",
   "name": "python",
   "nbconvert_exporter": "python",
   "pygments_lexer": "ipython3",
   "version": "3.8.10"
  },
  "orig_nbformat": 4,
  "vscode": {
   "interpreter": {
    "hash": "6057fecb170e1e8f9bd2cebc9737fbccff365f57bff4f66cbb1d0710ac0d90a1"
   }
  }
 },
 "nbformat": 4,
 "nbformat_minor": 2
}
